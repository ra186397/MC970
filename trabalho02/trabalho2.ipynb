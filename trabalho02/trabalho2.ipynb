{
 "cells": [
  {
   "cell_type": "code",
   "execution_count": 7,
   "id": "f3805932",
   "metadata": {},
   "outputs": [],
   "source": [
    "import cv2\n",
    "import numpy as np\n",
    "import matplotlib.pyplot as plt"
   ]
  },
  {
   "cell_type": "code",
   "execution_count": 8,
   "id": "7aef2ed3",
   "metadata": {},
   "outputs": [],
   "source": [
    "def extract_features(image_path, feature_method='sift', max_features=2000):\n",
    "    \"\"\"\n",
    "    Extract features from an image using different methods.\n",
    "    \"\"\"\n",
    "\n",
    "    # Read the image in color and convert to grayscale\n",
    "    img = cv2.imread(image_path)\n",
    "    if img is None:\n",
    "        raise ValueError(f\"Could not read image at {image_path}\")\n",
    "    \n",
    "    gray = cv2.cvtColor(img, cv2.COLOR_BGR2GRAY)\n",
    "    \n",
    "    # Initialize feature detector based on method\n",
    "    if feature_method.lower() == 'sift':\n",
    "        detector = cv2.SIFT_create(nfeatures=max_features)\n",
    "    elif feature_method.lower() == 'surf':\n",
    "        # Note: SURF is patented and may not be available in all OpenCV distributions\n",
    "        detector = cv2.xfeatures2d.SURF_create(400)  # Adjust threshold as needed\n",
    "    elif feature_method.lower() == 'orb':\n",
    "        detector = cv2.ORB_create(nfeatures=max_features)\n",
    "    else:\n",
    "        raise ValueError(f\"Unsupported feature method: {feature_method}\")\n",
    "    \n",
    "    # Detect and compute keypoints and descriptors\n",
    "    keypoints, descriptors = detector.detectAndCompute(gray, None)\n",
    "    \n",
    "    # Create visualization\n",
    "    img_with_features = cv2.drawKeypoints(\n",
    "        img, keypoints, None, \n",
    "        flags=cv2.DRAW_MATCHES_FLAGS_DRAW_RICH_KEYPOINTS\n",
    "    )\n",
    "    \n",
    "    print(f\"Extracted {len(keypoints)} {feature_method.upper()} features\")\n",
    "    \n",
    "    return keypoints, descriptors, img_with_features\n"
   ]
  },
  {
   "cell_type": "code",
   "execution_count": null,
   "id": "e6239575",
   "metadata": {},
   "outputs": [
    {
     "name": "stdout",
     "output_type": "stream",
     "text": [
      "Extracted 962 SIFT features\n",
      "Extracted 1921 ORB features\n"
     ]
    }
   ],
   "source": [
    "image_path = \"imagens/WhatsApp Image 2025-09-12 at 11.12.22 (1).jpeg\"  # Replace with your image path\n",
    "\n",
    "# Extract features with different methods\n",
    "kp_sift, desc_sift, vis_sift = extract_features(image_path, 'sift')\n",
    "kp_surf, desc_surf, vis_surf = extract_features(image_path, 'surf')\n",
    "kp_orb, desc_orb, vis_orb = extract_features(image_path, 'orb')"
   ]
  }
 ],
 "metadata": {
  "kernelspec": {
   "display_name": "Python 3",
   "language": "python",
   "name": "python3"
  },
  "language_info": {
   "codemirror_mode": {
    "name": "ipython",
    "version": 3
   },
   "file_extension": ".py",
   "mimetype": "text/x-python",
   "name": "python",
   "nbconvert_exporter": "python",
   "pygments_lexer": "ipython3",
   "version": "3.12.10"
  }
 },
 "nbformat": 4,
 "nbformat_minor": 5
}
